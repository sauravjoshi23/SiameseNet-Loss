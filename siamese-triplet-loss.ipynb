{
  "nbformat": 4,
  "nbformat_minor": 0,
  "metadata": {
    "colab": {
      "name": "siamese-triplet-loss.ipynb",
      "provenance": [],
      "collapsed_sections": []
    },
    "kernelspec": {
      "display_name": "Python 3",
      "language": "python",
      "name": "python3"
    },
    "language_info": {
      "codemirror_mode": {
        "name": "ipython",
        "version": 3
      },
      "file_extension": ".py",
      "mimetype": "text/x-python",
      "name": "python",
      "nbconvert_exporter": "python",
      "pygments_lexer": "ipython3",
      "version": "3.8.0"
    },
    "toc": {
      "base_numbering": 1,
      "nav_menu": {},
      "number_sections": true,
      "sideBar": true,
      "skip_h1_title": false,
      "title_cell": "Table of Contents",
      "title_sidebar": "Contents",
      "toc_cell": true,
      "toc_position": {},
      "toc_section_display": true,
      "toc_window_display": false
    }
  },
  "cells": [
    {
      "cell_type": "markdown",
      "metadata": {
        "id": "koty8IglfEJi"
      },
      "source": [
        "<h1>Table of Contents<span class=\"tocSkip\"></span></h1>\n",
        "<div class=\"toc\"><ul class=\"toc-item\"><li><span><a href=\"#Data-Cleaning\" data-toc-modified-id=\"Data-Cleaning-1\"><span class=\"toc-item-num\">1&nbsp;&nbsp;</span>Data Cleaning</a></span></li><li><span><a href=\"#Data-Split\" data-toc-modified-id=\"Data-Split-2\"><span class=\"toc-item-num\">2&nbsp;&nbsp;</span>Data Split</a></span></li></ul></div>"
      ]
    },
    {
      "cell_type": "code",
      "metadata": {
        "colab": {
          "base_uri": "https://localhost:8080/"
        },
        "id": "wxcoNPQ1fEJq",
        "outputId": "dd4a7db8-eace-452e-e26a-418e03872484"
      },
      "source": [
        "from google.colab import drive\n",
        "drive.mount('/content/drive')"
      ],
      "execution_count": 25,
      "outputs": [
        {
          "output_type": "stream",
          "text": [
            "Mounted at /content/drive\n"
          ],
          "name": "stdout"
        }
      ]
    },
    {
      "cell_type": "code",
      "metadata": {
        "colab": {
          "base_uri": "https://localhost:8080/"
        },
        "id": "H3uvUz3Qfh1i",
        "outputId": "30f70b06-fa5e-41c7-e365-d92b7c721126"
      },
      "source": [
        "nltk.download('stopwords')\n",
        "nltk.download('punkt')\n",
        "nltk.download('averaged_perceptron_tagger')\n",
        "nltk.download('wordnet')"
      ],
      "execution_count": 2,
      "outputs": [
        {
          "output_type": "stream",
          "text": [
            "[nltk_data] Downloading package stopwords to /root/nltk_data...\n",
            "[nltk_data]   Unzipping corpora/stopwords.zip.\n",
            "[nltk_data] Downloading package punkt to /root/nltk_data...\n",
            "[nltk_data]   Unzipping tokenizers/punkt.zip.\n",
            "[nltk_data] Downloading package averaged_perceptron_tagger to\n",
            "[nltk_data]     /root/nltk_data...\n",
            "[nltk_data]   Unzipping taggers/averaged_perceptron_tagger.zip.\n",
            "[nltk_data] Downloading package wordnet to /root/nltk_data...\n",
            "[nltk_data]   Unzipping corpora/wordnet.zip.\n"
          ],
          "name": "stdout"
        },
        {
          "output_type": "execute_result",
          "data": {
            "text/plain": [
              "True"
            ]
          },
          "metadata": {
            "tags": []
          },
          "execution_count": 2
        }
      ]
    },
    {
      "cell_type": "code",
      "metadata": {
        "id": "N3nfdBdofEJr"
      },
      "source": [
        "import pandas as pd\n",
        "import numpy as np\n",
        "import random\n",
        "import warnings\n",
        "import time\n",
        "import datetime\n",
        "import re\n",
        "import string\n",
        "import itertools\n",
        "import pickle\n",
        "import joblib\n",
        "import nltk\n",
        "import csv\n",
        "\n",
        "from nltk.corpus import stopwords, wordnet\n",
        "stop = set(stopwords.words('english'))\n",
        "from wordcloud import WordCloud, STOPWORDS\n",
        "from nltk.stem import WordNetLemmatizer\n",
        "from nltk.tokenize import word_tokenize\n",
        "from nltk.probability import FreqDist\n",
        "from collections import Counter, defaultdict\n",
        "\n",
        "import tensorflow as tf\n",
        "import keras\n",
        "import keras.backend as K\n",
        "from keras.preprocessing.text import Tokenizer\n",
        "from keras.preprocessing.sequence import pad_sequences\n",
        "from keras.layers import Input, Concatenate, Conv2D, Flatten, Dense, Embedding, LSTM\n",
        "from keras.models import Model\n",
        "\n",
        "from sklearn.model_selection import train_test_split\n",
        "from sklearn.metrics import roc_auc_score\n",
        "\n",
        "from keras.regularizers import l2\n",
        "from keras.models import Sequential\n",
        "from keras.optimizers import Adam\n",
        "from keras.layers import Conv2D, ZeroPadding2D, Activation, Input, concatenate\n",
        "from keras.models import Model\n",
        "from keras.layers.normalization import BatchNormalization\n",
        "from keras.layers.pooling import MaxPooling2D\n",
        "from keras.layers.merge import Concatenate\n",
        "from keras.layers.core import Lambda, Flatten, Dense\n",
        "from keras.initializers import glorot_uniform\n",
        "from keras.layers import Input, Dense, Flatten, GlobalMaxPool2D, GlobalAvgPool2D, Concatenate, Multiply, Dropout, Subtract, Add, Conv2D\n",
        "\n",
        "import matplotlib.pyplot as plt\n",
        "import seaborn as sns\n",
        "%matplotlib inline\n",
        "\n",
        "import warnings\n",
        "warnings.filterwarnings('ignore')"
      ],
      "execution_count": 3,
      "outputs": []
    },
    {
      "cell_type": "code",
      "metadata": {
        "colab": {
          "base_uri": "https://localhost:8080/",
          "height": 195
        },
        "id": "5BlS2QUJfEJr",
        "outputId": "fad9981f-2dfb-4ea9-bd0d-464785ed186e"
      },
      "source": [
        "df = pd.read_csv('tweets.csv', encoding='utf-8', error_bad_lines=False, sep=',')\n",
        "df.drop(['keyword', 'location', 'id'], axis=1, inplace=True)\n",
        "display(df.sample(5))"
      ],
      "execution_count": 4,
      "outputs": [
        {
          "output_type": "display_data",
          "data": {
            "text/html": [
              "<div>\n",
              "<style scoped>\n",
              "    .dataframe tbody tr th:only-of-type {\n",
              "        vertical-align: middle;\n",
              "    }\n",
              "\n",
              "    .dataframe tbody tr th {\n",
              "        vertical-align: top;\n",
              "    }\n",
              "\n",
              "    .dataframe thead th {\n",
              "        text-align: right;\n",
              "    }\n",
              "</style>\n",
              "<table border=\"1\" class=\"dataframe\">\n",
              "  <thead>\n",
              "    <tr style=\"text-align: right;\">\n",
              "      <th></th>\n",
              "      <th>text</th>\n",
              "      <th>target</th>\n",
              "    </tr>\n",
              "  </thead>\n",
              "  <tbody>\n",
              "    <tr>\n",
              "      <th>6225</th>\n",
              "      <td>Eden Hazard distracting the Iranian army https...</td>\n",
              "      <td>0</td>\n",
              "    </tr>\n",
              "    <tr>\n",
              "      <th>7380</th>\n",
              "      <td>Lets never forget the 14 January 2019 extra-le...</td>\n",
              "      <td>1</td>\n",
              "    </tr>\n",
              "    <tr>\n",
              "      <th>3329</th>\n",
              "      <td>sure am digging this deluge of hyper-criticism...</td>\n",
              "      <td>0</td>\n",
              "    </tr>\n",
              "    <tr>\n",
              "      <th>8998</th>\n",
              "      <td>Philip Schofield is really letting himself dow...</td>\n",
              "      <td>0</td>\n",
              "    </tr>\n",
              "    <tr>\n",
              "      <th>9658</th>\n",
              "      <td>ISIS strap suicide vests to PUPPIES in horror ...</td>\n",
              "      <td>0</td>\n",
              "    </tr>\n",
              "  </tbody>\n",
              "</table>\n",
              "</div>"
            ],
            "text/plain": [
              "                                                   text  target\n",
              "6225  Eden Hazard distracting the Iranian army https...       0\n",
              "7380  Lets never forget the 14 January 2019 extra-le...       1\n",
              "3329  sure am digging this deluge of hyper-criticism...       0\n",
              "8998  Philip Schofield is really letting himself dow...       0\n",
              "9658  ISIS strap suicide vests to PUPPIES in horror ...       0"
            ]
          },
          "metadata": {
            "tags": []
          }
        }
      ]
    },
    {
      "cell_type": "code",
      "metadata": {
        "colab": {
          "base_uri": "https://localhost:8080/"
        },
        "id": "immmR1yYfEJs",
        "outputId": "4e362d09-2b68-4901-cd64-49be57613e3e"
      },
      "source": [
        "df.shape"
      ],
      "execution_count": 5,
      "outputs": [
        {
          "output_type": "execute_result",
          "data": {
            "text/plain": [
              "(11370, 2)"
            ]
          },
          "metadata": {
            "tags": []
          },
          "execution_count": 5
        }
      ]
    },
    {
      "cell_type": "code",
      "metadata": {
        "colab": {
          "base_uri": "https://localhost:8080/"
        },
        "id": "fbSWwM-mfEJs",
        "outputId": "b70261e3-306c-419b-d516-b3b679c61a56"
      },
      "source": [
        "df['target'].value_counts()"
      ],
      "execution_count": 6,
      "outputs": [
        {
          "output_type": "execute_result",
          "data": {
            "text/plain": [
              "0    9256\n",
              "1    2114\n",
              "Name: target, dtype: int64"
            ]
          },
          "metadata": {
            "tags": []
          },
          "execution_count": 6
        }
      ]
    },
    {
      "cell_type": "markdown",
      "metadata": {
        "id": "GwGBCrznfEJs"
      },
      "source": [
        "## Data Cleaning"
      ]
    },
    {
      "cell_type": "code",
      "metadata": {
        "id": "poC0Gk90fEJt"
      },
      "source": [
        "def remove_url(text):\n",
        "    url = re.compile(r'https?://\\S+|www\\.\\S+')\n",
        "    return url.sub(r'', text)\n",
        "\n",
        "def remove_emoji(text):\n",
        "    emoji_pattern = re.compile(\n",
        "        '['\n",
        "        u'\\U0001F600-\\U0001F64F'  # emoticons\n",
        "        u'\\U0001F300-\\U0001F5FF'  # symbols & pictographs\n",
        "        u'\\U0001F680-\\U0001F6FF'  # transport & map symbols\n",
        "        u'\\U0001F1E0-\\U0001F1FF'  # flags (iOS)\n",
        "        u'\\U00002702-\\U000027B0'\n",
        "        u'\\U000024C2-\\U0001F251'\n",
        "        ']+',\n",
        "        flags=re.UNICODE)\n",
        "    return emoji_pattern.sub(r'', text)\n",
        "\n",
        "def remove_html(text):\n",
        "    html = re.compile(r'<.*?>|&([a-z0-9]+|#[0-9]{1,6}|#x[0-9a-f]{1,6});')\n",
        "    return re.sub(html, '', text)\n",
        "\n",
        "def remove_punct(text):\n",
        "    table = str.maketrans('', '', string.punctuation)\n",
        "    return text.translate(table)\n",
        "\n",
        "df['clean_text'] = df['text'].apply(lambda x: remove_url(str(x)))\n",
        "df['clean_text'] = df['clean_text'].apply(lambda x: remove_emoji(str(x)))\n",
        "df['clean_text'] = df['clean_text'].apply(lambda x: remove_html(str(x)))\n",
        "df['clean_text'] = df['clean_text'].apply(lambda x: remove_punct(str(x)))\n",
        "df['clean_text'] = df['clean_text'].apply(word_tokenize)\n",
        "df['clean_text'] = df['clean_text'].apply(lambda x: [word.lower() for word in x])\n",
        "df['clean_text'] = df['clean_text'].apply(lambda x: [word for word in x if word not in stop])\n",
        "df['clean_text'] = df['clean_text'].apply(nltk.tag.pos_tag)\n",
        "\n",
        "def get_wordnet_pos(tag):\n",
        "    if tag.startswith('J'):\n",
        "        return wordnet.ADJ\n",
        "    elif tag.startswith('V'):\n",
        "        return wordnet.VERB\n",
        "    elif tag.startswith('N'):\n",
        "        return wordnet.NOUN\n",
        "    elif tag.startswith('R'):\n",
        "        return wordnet.ADV\n",
        "    else:\n",
        "        return wordnet.NOUN\n",
        "    \n",
        "df['clean_text'] = df['clean_text'].apply(\n",
        "    lambda x: [(word, get_wordnet_pos(pos_tag)) for (word, pos_tag) in x])\n",
        "wnl = WordNetLemmatizer()\n",
        "df['clean_text'] = df['clean_text'].apply(\n",
        "    lambda x: [wnl.lemmatize(word, tag) for word, tag in x])\n",
        "df['clean_text'] = df['clean_text'].apply(\n",
        "    lambda x: [word for word in x if word not in stop])\n",
        "df['clean_text'] = [' '.join(map(str, l)) for l in df['clean_text']]"
      ],
      "execution_count": 7,
      "outputs": []
    },
    {
      "cell_type": "code",
      "metadata": {
        "colab": {
          "base_uri": "https://localhost:8080/",
          "height": 106
        },
        "id": "qVQaKcaIfEJt",
        "outputId": "d3e4b855-ebf4-47bc-c921-8ccb2bb8fe07"
      },
      "source": [
        "display(df.sample(2))"
      ],
      "execution_count": 8,
      "outputs": [
        {
          "output_type": "display_data",
          "data": {
            "text/html": [
              "<div>\n",
              "<style scoped>\n",
              "    .dataframe tbody tr th:only-of-type {\n",
              "        vertical-align: middle;\n",
              "    }\n",
              "\n",
              "    .dataframe tbody tr th {\n",
              "        vertical-align: top;\n",
              "    }\n",
              "\n",
              "    .dataframe thead th {\n",
              "        text-align: right;\n",
              "    }\n",
              "</style>\n",
              "<table border=\"1\" class=\"dataframe\">\n",
              "  <thead>\n",
              "    <tr style=\"text-align: right;\">\n",
              "      <th></th>\n",
              "      <th>text</th>\n",
              "      <th>target</th>\n",
              "      <th>clean_text</th>\n",
              "    </tr>\n",
              "  </thead>\n",
              "  <tbody>\n",
              "    <tr>\n",
              "      <th>8812</th>\n",
              "      <td>RSCL apathy delays Brahmani project - The New ...</td>\n",
              "      <td>0</td>\n",
              "      <td>rscl apathy delay brahmani project new indian ...</td>\n",
              "    </tr>\n",
              "    <tr>\n",
              "      <th>64</th>\n",
              "      <td>Iran Says That They Shot Down Ukraine Internat...</td>\n",
              "      <td>1</td>\n",
              "      <td>iran say shot ukraine international flight 172...</td>\n",
              "    </tr>\n",
              "  </tbody>\n",
              "</table>\n",
              "</div>"
            ],
            "text/plain": [
              "                                                   text  ...                                         clean_text\n",
              "8812  RSCL apathy delays Brahmani project - The New ...  ...  rscl apathy delay brahmani project new indian ...\n",
              "64    Iran Says That They Shot Down Ukraine Internat...  ...  iran say shot ukraine international flight 172...\n",
              "\n",
              "[2 rows x 3 columns]"
            ]
          },
          "metadata": {
            "tags": []
          }
        }
      ]
    },
    {
      "cell_type": "code",
      "metadata": {
        "id": "oUTDMAjxIEy_"
      },
      "source": [
        "# df.to_csv('tweets_processed.csv')"
      ],
      "execution_count": null,
      "outputs": []
    },
    {
      "cell_type": "markdown",
      "metadata": {
        "id": "SjdsQ4-oeY3m"
      },
      "source": [
        "## Data Preparation"
      ]
    },
    {
      "cell_type": "code",
      "metadata": {
        "id": "wn6npGixedaN"
      },
      "source": [
        "disaster_initial = list(df[df['target'] == 1]['clean_text'])\n",
        "non_disaster_initial = list(df[df['target'] == 0]['clean_text'])\n",
        "\n",
        "# Selecting only 20 samples for siamese model\n",
        "disaster = disaster_initial[:20]\n",
        "non_disaster = non_disaster_initial[:20]\n",
        "\n",
        "# Creating pairs of data for siamese training => labels are just dummy variables \n",
        "df2 = pd.DataFrame(columns=['Anchor', 'Positive', 'Negative', 'label'])\n",
        "\n",
        "for data in disaster:\n",
        "  a = data\n",
        "  p = random.choice(disaster)\n",
        "  n = random.choice(non_disaster)\n",
        "\n",
        "  df2.loc[len(df2)] = [a, p, n, 1]\n",
        "\n",
        "\n",
        "for data in non_disaster:\n",
        "  a = data\n",
        "  p = random.choice(non_disaster)\n",
        "  n = random.choice(disaster)\n",
        "  \n",
        "  df2.loc[len(df2)] = [a, p, n, 1]"
      ],
      "execution_count": 39,
      "outputs": []
    },
    {
      "cell_type": "code",
      "metadata": {
        "colab": {
          "base_uri": "https://localhost:8080/"
        },
        "id": "EvVkio8nm6DK",
        "outputId": "a766bdfe-04ef-42d2-9238-7cfb7b68b9af"
      },
      "source": [
        "df2.shape"
      ],
      "execution_count": 40,
      "outputs": [
        {
          "output_type": "execute_result",
          "data": {
            "text/plain": [
              "(40, 4)"
            ]
          },
          "metadata": {
            "tags": []
          },
          "execution_count": 40
        }
      ]
    },
    {
      "cell_type": "code",
      "metadata": {
        "colab": {
          "base_uri": "https://localhost:8080/",
          "height": 195
        },
        "id": "vMaxZO6Tec61",
        "outputId": "6f319c5a-8e96-4528-b336-d08c2bda56d7"
      },
      "source": [
        "display(df2.sample(5))"
      ],
      "execution_count": 41,
      "outputs": [
        {
          "output_type": "display_data",
          "data": {
            "text/html": [
              "<div>\n",
              "<style scoped>\n",
              "    .dataframe tbody tr th:only-of-type {\n",
              "        vertical-align: middle;\n",
              "    }\n",
              "\n",
              "    .dataframe tbody tr th {\n",
              "        vertical-align: top;\n",
              "    }\n",
              "\n",
              "    .dataframe thead th {\n",
              "        text-align: right;\n",
              "    }\n",
              "</style>\n",
              "<table border=\"1\" class=\"dataframe\">\n",
              "  <thead>\n",
              "    <tr style=\"text-align: right;\">\n",
              "      <th></th>\n",
              "      <th>Anchor</th>\n",
              "      <th>Positive</th>\n",
              "      <th>Negative</th>\n",
              "      <th>label</th>\n",
              "    </tr>\n",
              "  </thead>\n",
              "  <tbody>\n",
              "    <tr>\n",
              "      <th>35</th>\n",
              "      <td>heartfelt appreciation prime minister yab tun ...</td>\n",
              "      <td>cool day git push origin currentbranchname kno...</td>\n",
              "      <td>cow today local factory sadly still ablaze red...</td>\n",
              "      <td>1</td>\n",
              "    </tr>\n",
              "    <tr>\n",
              "      <th>1</th>\n",
              "      <td>telangana section 144 impose bhainsa january 1...</td>\n",
              "      <td>telangana section 144 impose bhainsa january 1...</td>\n",
              "      <td>creature ’ soul longer clarent blue ablaze thi...</td>\n",
              "      <td>1</td>\n",
              "    </tr>\n",
              "    <tr>\n",
              "      <th>2</th>\n",
              "      <td>arsonist set car ablaze dealership</td>\n",
              "      <td>image show havoc cause cameroon military torch...</td>\n",
              "      <td>cool day git push origin currentbranchname kno...</td>\n",
              "      <td>1</td>\n",
              "    </tr>\n",
              "    <tr>\n",
              "      <th>17</th>\n",
              "      <td>marivan kurdistan province monday jan 13th 202...</td>\n",
              "      <td>hausa youth set area office apapaiganmu local ...</td>\n",
              "      <td>yeah new swag point 100 since accident like to...</td>\n",
              "      <td>1</td>\n",
              "    </tr>\n",
              "    <tr>\n",
              "      <th>11</th>\n",
              "      <td>french cameroun set house ablaze ndu roast two...</td>\n",
              "      <td>fire ablaze throughout landas prophosized apoc...</td>\n",
              "      <td>child chinese tweet would go viral social medi...</td>\n",
              "      <td>1</td>\n",
              "    </tr>\n",
              "  </tbody>\n",
              "</table>\n",
              "</div>"
            ],
            "text/plain": [
              "                                               Anchor  ... label\n",
              "35  heartfelt appreciation prime minister yab tun ...  ...     1\n",
              "1   telangana section 144 impose bhainsa january 1...  ...     1\n",
              "2                  arsonist set car ablaze dealership  ...     1\n",
              "17  marivan kurdistan province monday jan 13th 202...  ...     1\n",
              "11  french cameroun set house ablaze ndu roast two...  ...     1\n",
              "\n",
              "[5 rows x 4 columns]"
            ]
          },
          "metadata": {
            "tags": []
          }
        }
      ]
    },
    {
      "cell_type": "markdown",
      "metadata": {
        "id": "WcxiqrHCfEJu"
      },
      "source": [
        "## Data Split"
      ]
    },
    {
      "cell_type": "code",
      "metadata": {
        "colab": {
          "base_uri": "https://localhost:8080/"
        },
        "id": "plFj4OyEfEJu",
        "outputId": "c52f3f84-c20e-4142-bc41-48dff0e55dc4"
      },
      "source": [
        "X_train, X_val, y_train, y_val = train_test_split(df2[['Anchor', 'Positive', 'Negative']], df2['label'], test_size=0.2, random_state=0)\n",
        "print(X_train.shape, X_val.shape, y_train.shape, y_val.shape)"
      ],
      "execution_count": 42,
      "outputs": [
        {
          "output_type": "stream",
          "text": [
            "(32, 3) (8, 3) (32,) (8,)\n"
          ],
          "name": "stdout"
        }
      ]
    },
    {
      "cell_type": "code",
      "metadata": {
        "id": "8sj77LIvfEJu"
      },
      "source": [
        "X_train['text'] = X_train[['Anchor', 'Positive', 'Negative']].apply(lambda x: str(x[0])+\" \"+str(x[1])+\" \"+str(x[2]), axis=1)"
      ],
      "execution_count": 44,
      "outputs": []
    },
    {
      "cell_type": "markdown",
      "metadata": {
        "id": "0D8iSVUxxbos"
      },
      "source": [
        "## Glove Embeddings"
      ]
    },
    {
      "cell_type": "code",
      "metadata": {
        "id": "rngd1uXGfEJu"
      },
      "source": [
        "t = Tokenizer()\n",
        "t.fit_on_texts(X_train['text'].values)\n",
        "\n",
        "X_train['Anchor'] = X_train['Anchor'].astype(str)\n",
        "X_train['Positive'] = X_train['Positive'].astype(str)\n",
        "X_train['Negative'] = X_train['Negative'].astype(str)\n",
        "X_val['Anchor'] = X_val['Anchor'].astype(str)\n",
        "X_val['Positive'] = X_val['Positive'].astype(str)\n",
        "X_val['Negative'] = X_val['Negative'].astype(str)\n",
        "\n",
        "train_q1_seq = t.texts_to_sequences(X_train['Anchor'].values)\n",
        "train_q2_seq = t.texts_to_sequences(X_train['Positive'].values)\n",
        "train_q3_seq = t.texts_to_sequences(X_train['Negative'].values)\n",
        "val_q1_seq = t.texts_to_sequences(X_val['Anchor'].values)\n",
        "val_q2_seq = t.texts_to_sequences(X_val['Positive'].values)\n",
        "val_q3_seq = t.texts_to_sequences(X_val['Negative'].values)\n",
        "\n",
        "max_len = 200\n",
        "train_q1_seq = pad_sequences(train_q1_seq, maxlen=max_len, padding='post')\n",
        "train_q2_seq = pad_sequences(train_q2_seq, maxlen=max_len, padding='post')\n",
        "train_q3_seq = pad_sequences(train_q3_seq, maxlen=max_len, padding='post')\n",
        "val_q1_seq = pad_sequences(val_q1_seq, maxlen=max_len, padding='post')\n",
        "val_q2_seq = pad_sequences(val_q2_seq, maxlen=max_len, padding='post')\n",
        "val_q3_seq = pad_sequences(val_q3_seq, maxlen=max_len, padding='post')"
      ],
      "execution_count": 47,
      "outputs": []
    },
    {
      "cell_type": "code",
      "metadata": {
        "colab": {
          "base_uri": "https://localhost:8080/"
        },
        "id": "zPz4Swc2fEJv",
        "outputId": "eda0e887-e061-41b1-c1f4-a1366267738f"
      },
      "source": [
        "#https://blog.keras.io/using-pre-trained-word-embeddings-in-a-keras-model.html\n",
        "embeddings_index = {}\n",
        "f = open('drive/My Drive/Glove/glove.6B.300d.txt')\n",
        "for line in f:\n",
        "    values = line.split()\n",
        "    word = values[0]\n",
        "    coefs = np.asarray(values[1:], dtype='float32')\n",
        "    embeddings_index[word] = coefs\n",
        "f.close()\n",
        "\n",
        "print('Found %s word vectors.' % len(embeddings_index))"
      ],
      "execution_count": 49,
      "outputs": [
        {
          "output_type": "stream",
          "text": [
            "Found 400000 word vectors.\n"
          ],
          "name": "stdout"
        }
      ]
    },
    {
      "cell_type": "code",
      "metadata": {
        "colab": {
          "base_uri": "https://localhost:8080/"
        },
        "id": "LTdyVvzrfEJv",
        "outputId": "851383c8-19c5-4dc9-dce7-1bfb9c909940"
      },
      "source": [
        "not_present_list = []\n",
        "vocab_size = len(t.word_index) + 1\n",
        "print('Loaded %s word vectors.' % len(embeddings_index))\n",
        "embedding_matrix = np.zeros((vocab_size, len(embeddings_index['no'])))\n",
        "for word, i in t.word_index.items():\n",
        "    if word in embeddings_index.keys():\n",
        "        embedding_vector = embeddings_index.get(word)\n",
        "    else:\n",
        "        not_present_list.append(word)\n",
        "    if embedding_vector is not None:\n",
        "        embedding_matrix[i] = embedding_vector\n",
        "    else:\n",
        "        embedding_matrix[i] = np.zeros(300)"
      ],
      "execution_count": 50,
      "outputs": [
        {
          "output_type": "stream",
          "text": [
            "Loaded 400000 word vectors.\n"
          ],
          "name": "stdout"
        }
      ]
    },
    {
      "cell_type": "code",
      "metadata": {
        "colab": {
          "base_uri": "https://localhost:8080/"
        },
        "id": "5q9WJ8GhfEJv",
        "outputId": "2975f0c9-d711-4aa1-aa25-28c01d776328"
      },
      "source": [
        "print(embedding_matrix.shape)"
      ],
      "execution_count": 51,
      "outputs": [
        {
          "output_type": "stream",
          "text": [
            "(313, 300)\n"
          ],
          "name": "stdout"
        }
      ]
    },
    {
      "cell_type": "markdown",
      "metadata": {
        "id": "EIuQ9I6PxT-6"
      },
      "source": [
        "## Siamese Model"
      ]
    },
    {
      "cell_type": "code",
      "metadata": {
        "id": "YAhYNYXbfEJw"
      },
      "source": [
        "def identity_loss(y_true, y_pred):\n",
        "    return K.mean(y_pred)\n",
        "\n",
        "def triplet_loss(x, alpha = 0.2):\n",
        "    # Triplet Loss function.\n",
        "    anchor,positive,negative = x\n",
        "    # distance between the anchor and the positive\n",
        "    pos_dist = K.sum(K.square(anchor-positive),axis=1)\n",
        "    # distance between the anchor and the negative\n",
        "    neg_dist = K.sum(K.square(anchor-negative),axis=1)\n",
        "    # compute loss\n",
        "    basic_loss = pos_dist-neg_dist+alpha\n",
        "    loss = K.maximum(basic_loss,0.0)\n",
        "    return loss"
      ],
      "execution_count": 52,
      "outputs": []
    },
    {
      "cell_type": "code",
      "metadata": {
        "id": "N2FZDhh-Q5ii"
      },
      "source": [
        "def embedding_model():\n",
        "\n",
        "  network = Sequential()\n",
        "  network.add(Embedding(name=\"synopsis_embedd\",input_dim =len(t.word_index)+1, \n",
        "                       output_dim=len(embeddings_index['no']),weights=[embedding_matrix], \n",
        "                       input_length=train_q1_seq.shape[1],trainable=False))\n",
        "  network.add(LSTM(64,return_sequences=True, activation=\"relu\"))\n",
        "  network.add(Flatten())\n",
        "  network.add(Dense(128, activation='relu',\n",
        "                  kernel_regularizer=l2(1e-3),\n",
        "                  kernel_initializer='he_uniform'))\n",
        "  \n",
        "  network.add(Dense(2, activation=None,\n",
        "                  kernel_regularizer=l2(1e-3),\n",
        "                  kernel_initializer='he_uniform'))\n",
        "  \n",
        "  #Force the encoding to live on the d-dimentional hypershpere\n",
        "  # network.add(Lambda(lambda x: K.l2_normalize(x,axis=-1)))\n",
        "\n",
        "  return network\n",
        "\n",
        "\n",
        "def build_network(base_model):\n",
        "\n",
        "  input_1 = Input(shape=(train_q1_seq.shape[1],))\n",
        "  input_2 = Input(shape=(train_q2_seq.shape[1],))\n",
        "  input_3 = Input(shape=(train_q3_seq.shape[1],))\n",
        "\n",
        "  A = base_model(input_1)\n",
        "  P = base_model(input_2)\n",
        "  N = base_model(input_3)\n",
        "\n",
        "  loss = Lambda(triplet_loss)([A, P, N])\n",
        "  model = Model(inputs = [input_1, input_2, input_3], outputs = loss)\n",
        "  model.compile(loss = identity_loss, optimizer = Adam(0.001))\n",
        "  return model"
      ],
      "execution_count": 54,
      "outputs": []
    },
    {
      "cell_type": "code",
      "metadata": {
        "id": "4kR00lIaR1Q7",
        "colab": {
          "base_uri": "https://localhost:8080/"
        },
        "outputId": "be4055d7-952a-439f-88dd-814ae955707c"
      },
      "source": [
        "base_model = embedding_model()\n",
        "model = build_network(base_model)\n",
        "model.summary()"
      ],
      "execution_count": 60,
      "outputs": [
        {
          "output_type": "stream",
          "text": [
            "Model: \"model_1\"\n",
            "__________________________________________________________________________________________________\n",
            "Layer (type)                    Output Shape         Param #     Connected to                     \n",
            "==================================================================================================\n",
            "input_4 (InputLayer)            [(None, 200)]        0                                            \n",
            "__________________________________________________________________________________________________\n",
            "input_5 (InputLayer)            [(None, 200)]        0                                            \n",
            "__________________________________________________________________________________________________\n",
            "input_6 (InputLayer)            [(None, 200)]        0                                            \n",
            "__________________________________________________________________________________________________\n",
            "sequential_1 (Sequential)       (None, 2)            1826126     input_4[0][0]                    \n",
            "                                                                 input_5[0][0]                    \n",
            "                                                                 input_6[0][0]                    \n",
            "__________________________________________________________________________________________________\n",
            "lambda_1 (Lambda)               (None,)              0           sequential_1[0][0]               \n",
            "                                                                 sequential_1[1][0]               \n",
            "                                                                 sequential_1[2][0]               \n",
            "==================================================================================================\n",
            "Total params: 1,826,126\n",
            "Trainable params: 1,732,226\n",
            "Non-trainable params: 93,900\n",
            "__________________________________________________________________________________________________\n"
          ],
          "name": "stdout"
        }
      ]
    },
    {
      "cell_type": "code",
      "metadata": {
        "id": "JKfZKgGQpTVk"
      },
      "source": [
        "y_train = np.asarray(y_train).astype('float32')\n",
        "y_val = np.asarray(y_val).astype('float32')"
      ],
      "execution_count": 61,
      "outputs": []
    },
    {
      "cell_type": "code",
      "metadata": {
        "colab": {
          "base_uri": "https://localhost:8080/"
        },
        "id": "H5pi0g8kfEJw",
        "outputId": "a006cd11-ddfc-4036-a92f-73282d6febd2"
      },
      "source": [
        "history = model.fit([train_q1_seq,train_q2_seq, train_q3_seq],y_train.reshape(-1,1), epochs = 5, \n",
        "          batch_size=64,validation_data=([val_q1_seq, val_q2_seq, val_q3_seq],y_val.reshape(-1,1)))"
      ],
      "execution_count": 62,
      "outputs": [
        {
          "output_type": "stream",
          "text": [
            "Epoch 1/5\n",
            "1/1 [==============================] - 8s 8s/step - loss: 0.4594 - val_loss: 0.4244\n",
            "Epoch 2/5\n",
            "1/1 [==============================] - 1s 556ms/step - loss: 0.4121 - val_loss: 0.3234\n",
            "Epoch 3/5\n",
            "1/1 [==============================] - 1s 571ms/step - loss: 0.3123 - val_loss: 0.2943\n",
            "Epoch 4/5\n",
            "1/1 [==============================] - 1s 545ms/step - loss: 0.2492 - val_loss: 0.2895\n",
            "Epoch 5/5\n",
            "1/1 [==============================] - 1s 575ms/step - loss: 0.1972 - val_loss: 0.2831\n"
          ],
          "name": "stdout"
        }
      ]
    },
    {
      "cell_type": "code",
      "metadata": {
        "colab": {
          "base_uri": "https://localhost:8080/",
          "height": 295
        },
        "id": "Umv9p8U-kwdq",
        "outputId": "20ae0e41-f736-484d-a5f9-54fa3b708fc7"
      },
      "source": [
        "plt.plot(history.history['loss'])\n",
        "plt.plot(history.history['val_loss'])\n",
        "plt.title('Training and Validation Losses',size = 12)\n",
        "plt.ylabel('loss')\n",
        "plt.xlabel('epoch')\n",
        "plt.legend(['train', 'val'], loc='upper right')\n",
        "plt.show()"
      ],
      "execution_count": 65,
      "outputs": [
        {
          "output_type": "display_data",
          "data": {
            "image/png": "[encoded data removed]",
            "text/plain": [
              "<Figure size 432x288 with 1 Axes>"
            ]
          },
          "metadata": {
            "tags": [],
            "needs_background": "light"
          }
        }
      ]
    },
    {
      "cell_type": "code",
      "metadata": {
        "colab": {
          "base_uri": "https://localhost:8080/"
        },
        "id": "WtbfF-TAgg6y",
        "outputId": "478f9dbd-45ff-4e10-95b1-3e4af85a671d"
      },
      "source": [
        "# Save model for further use\n",
        "# serialize model to JSON\n",
        "model_json = model.to_json()\n",
        "with open(\"siamesemodel-triplet-loss.json\", \"w\") as json_file:\n",
        "    json_file.write(model_json)\n",
        "#serialize weights to HDF5\n",
        "model.save_weights(\"siamesemodel-triplet-loss.h5\")\n",
        "print(\"Saved model to disk\")\n",
        "\n",
        "# load json and create model\n",
        "# json_file = open('siamesemodel-triplet-loss.json', 'r')\n",
        "# loaded_model_json = json_file.read()\n",
        "# json_file.close()\n",
        "# loaded_model = model_from_json(loaded_model_json)\n",
        "# # load weights into new model\n",
        "# loaded_model.load_weights(\"siamesemodel-triplet-loss.h5\")\n",
        "# print(\"Loaded model from disk\")"
      ],
      "execution_count": 66,
      "outputs": [
        {
          "output_type": "stream",
          "text": [
            "Saved model to disk\n"
          ],
          "name": "stdout"
        }
      ]
    },
    {
      "cell_type": "code",
      "metadata": {
        "id": "h-1uxiHPf-tb"
      },
      "source": [
        ""
      ],
      "execution_count": null,
      "outputs": []
    }
  ]
}